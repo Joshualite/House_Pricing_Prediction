{
 "cells": [
  {
   "cell_type": "code",
   "execution_count": 1,
   "id": "a77633b2",
   "metadata": {},
   "outputs": [],
   "source": [
    "import pandas as pd\n",
    "from sklearn.linear_model import LinearRegression\n",
    "from sklearn.model_selection import train_test_split\n",
    "from sklearn.linear_model import LinearRegression\n",
    "import numpy as np\n",
    "from sklearn.preprocessing import StandardScaler\n",
    "from sklearn.metrics import mean_squared_error, r2_score"
   ]
  },
  {
   "cell_type": "code",
   "execution_count": 2,
   "id": "f8a5f124",
   "metadata": {},
   "outputs": [],
   "source": [
    "df= pd.read_csv('../Resources/df_ETL.csv')\n"
   ]
  },
  {
   "cell_type": "markdown",
   "id": "22f087bd",
   "metadata": {},
   "source": [
    "The first thing is to return the datasets to the way they were before cleaning to be able to work on them separately."
   ]
  },
  {
   "cell_type": "code",
   "execution_count": 3,
   "id": "3206f403",
   "metadata": {},
   "outputs": [
    {
     "data": {
      "text/plain": [
       "(1460, 80)"
      ]
     },
     "execution_count": 3,
     "metadata": {},
     "output_type": "execute_result"
    }
   ],
   "source": [
    "df.shape"
   ]
  },
  {
   "cell_type": "code",
   "execution_count": 4,
   "id": "341d4f78",
   "metadata": {},
   "outputs": [
    {
     "data": {
      "text/html": [
       "<div>\n",
       "<style scoped>\n",
       "    .dataframe tbody tr th:only-of-type {\n",
       "        vertical-align: middle;\n",
       "    }\n",
       "\n",
       "    .dataframe tbody tr th {\n",
       "        vertical-align: top;\n",
       "    }\n",
       "\n",
       "    .dataframe thead th {\n",
       "        text-align: right;\n",
       "    }\n",
       "</style>\n",
       "<table border=\"1\" class=\"dataframe\">\n",
       "  <thead>\n",
       "    <tr style=\"text-align: right;\">\n",
       "      <th></th>\n",
       "      <th>OverallQual</th>\n",
       "      <th>YearBuilt</th>\n",
       "      <th>YearRemodAdd</th>\n",
       "      <th>MasVnrArea</th>\n",
       "      <th>ExterCond</th>\n",
       "      <th>BsmtQual</th>\n",
       "      <th>TotalBsmtSF</th>\n",
       "      <th>HeatingQC</th>\n",
       "      <th>FirstFlrSF</th>\n",
       "      <th>GrLivArea</th>\n",
       "      <th>...</th>\n",
       "      <th>Fence_GdWo</th>\n",
       "      <th>Fence_MnPrv</th>\n",
       "      <th>Fence_MnWw</th>\n",
       "      <th>Fence_NFe</th>\n",
       "      <th>Foundation_BrkTil</th>\n",
       "      <th>Foundation_CBlock</th>\n",
       "      <th>Foundation_PConc</th>\n",
       "      <th>Foundation_Slab</th>\n",
       "      <th>Foundation_Stone</th>\n",
       "      <th>Foundation_Wood</th>\n",
       "    </tr>\n",
       "  </thead>\n",
       "  <tbody>\n",
       "    <tr>\n",
       "      <th>0</th>\n",
       "      <td>7</td>\n",
       "      <td>2003</td>\n",
       "      <td>2003</td>\n",
       "      <td>5.283204</td>\n",
       "      <td>3</td>\n",
       "      <td>4</td>\n",
       "      <td>856.0</td>\n",
       "      <td>5</td>\n",
       "      <td>6.753438</td>\n",
       "      <td>7.444833</td>\n",
       "      <td>...</td>\n",
       "      <td>0</td>\n",
       "      <td>0</td>\n",
       "      <td>0</td>\n",
       "      <td>1</td>\n",
       "      <td>0</td>\n",
       "      <td>0</td>\n",
       "      <td>1</td>\n",
       "      <td>0</td>\n",
       "      <td>0</td>\n",
       "      <td>0</td>\n",
       "    </tr>\n",
       "    <tr>\n",
       "      <th>1</th>\n",
       "      <td>6</td>\n",
       "      <td>1976</td>\n",
       "      <td>1976</td>\n",
       "      <td>0.000000</td>\n",
       "      <td>3</td>\n",
       "      <td>4</td>\n",
       "      <td>1262.0</td>\n",
       "      <td>5</td>\n",
       "      <td>7.141245</td>\n",
       "      <td>7.141245</td>\n",
       "      <td>...</td>\n",
       "      <td>0</td>\n",
       "      <td>0</td>\n",
       "      <td>0</td>\n",
       "      <td>1</td>\n",
       "      <td>0</td>\n",
       "      <td>1</td>\n",
       "      <td>0</td>\n",
       "      <td>0</td>\n",
       "      <td>0</td>\n",
       "      <td>0</td>\n",
       "    </tr>\n",
       "    <tr>\n",
       "      <th>2</th>\n",
       "      <td>7</td>\n",
       "      <td>2001</td>\n",
       "      <td>2002</td>\n",
       "      <td>5.093750</td>\n",
       "      <td>3</td>\n",
       "      <td>4</td>\n",
       "      <td>920.0</td>\n",
       "      <td>5</td>\n",
       "      <td>6.825460</td>\n",
       "      <td>7.488294</td>\n",
       "      <td>...</td>\n",
       "      <td>0</td>\n",
       "      <td>0</td>\n",
       "      <td>0</td>\n",
       "      <td>1</td>\n",
       "      <td>0</td>\n",
       "      <td>0</td>\n",
       "      <td>1</td>\n",
       "      <td>0</td>\n",
       "      <td>0</td>\n",
       "      <td>0</td>\n",
       "    </tr>\n",
       "    <tr>\n",
       "      <th>3</th>\n",
       "      <td>7</td>\n",
       "      <td>1915</td>\n",
       "      <td>1970</td>\n",
       "      <td>0.000000</td>\n",
       "      <td>3</td>\n",
       "      <td>3</td>\n",
       "      <td>756.0</td>\n",
       "      <td>4</td>\n",
       "      <td>6.869014</td>\n",
       "      <td>7.448916</td>\n",
       "      <td>...</td>\n",
       "      <td>0</td>\n",
       "      <td>0</td>\n",
       "      <td>0</td>\n",
       "      <td>1</td>\n",
       "      <td>1</td>\n",
       "      <td>0</td>\n",
       "      <td>0</td>\n",
       "      <td>0</td>\n",
       "      <td>0</td>\n",
       "      <td>0</td>\n",
       "    </tr>\n",
       "    <tr>\n",
       "      <th>4</th>\n",
       "      <td>8</td>\n",
       "      <td>2000</td>\n",
       "      <td>2000</td>\n",
       "      <td>5.860786</td>\n",
       "      <td>3</td>\n",
       "      <td>4</td>\n",
       "      <td>1145.0</td>\n",
       "      <td>5</td>\n",
       "      <td>7.044033</td>\n",
       "      <td>7.695758</td>\n",
       "      <td>...</td>\n",
       "      <td>0</td>\n",
       "      <td>0</td>\n",
       "      <td>0</td>\n",
       "      <td>1</td>\n",
       "      <td>0</td>\n",
       "      <td>0</td>\n",
       "      <td>1</td>\n",
       "      <td>0</td>\n",
       "      <td>0</td>\n",
       "      <td>0</td>\n",
       "    </tr>\n",
       "  </tbody>\n",
       "</table>\n",
       "<p>5 rows × 80 columns</p>\n",
       "</div>"
      ],
      "text/plain": [
       "   OverallQual  YearBuilt  YearRemodAdd  MasVnrArea  ExterCond  BsmtQual  \\\n",
       "0            7       2003          2003    5.283204          3         4   \n",
       "1            6       1976          1976    0.000000          3         4   \n",
       "2            7       2001          2002    5.093750          3         4   \n",
       "3            7       1915          1970    0.000000          3         3   \n",
       "4            8       2000          2000    5.860786          3         4   \n",
       "\n",
       "   TotalBsmtSF  HeatingQC  FirstFlrSF  GrLivArea  ...  Fence_GdWo  \\\n",
       "0        856.0          5    6.753438   7.444833  ...           0   \n",
       "1       1262.0          5    7.141245   7.141245  ...           0   \n",
       "2        920.0          5    6.825460   7.488294  ...           0   \n",
       "3        756.0          4    6.869014   7.448916  ...           0   \n",
       "4       1145.0          5    7.044033   7.695758  ...           0   \n",
       "\n",
       "   Fence_MnPrv  Fence_MnWw  Fence_NFe  Foundation_BrkTil  Foundation_CBlock  \\\n",
       "0            0           0          1                  0                  0   \n",
       "1            0           0          1                  0                  1   \n",
       "2            0           0          1                  0                  0   \n",
       "3            0           0          1                  1                  0   \n",
       "4            0           0          1                  0                  0   \n",
       "\n",
       "   Foundation_PConc  Foundation_Slab  Foundation_Stone  Foundation_Wood  \n",
       "0                 1                0                 0                0  \n",
       "1                 0                0                 0                0  \n",
       "2                 1                0                 0                0  \n",
       "3                 0                0                 0                0  \n",
       "4                 1                0                 0                0  \n",
       "\n",
       "[5 rows x 80 columns]"
      ]
     },
     "execution_count": 4,
     "metadata": {},
     "output_type": "execute_result"
    }
   ],
   "source": [
    "df.head()"
   ]
  },
  {
   "cell_type": "markdown",
   "id": "7d6073cc",
   "metadata": {},
   "source": [
    "\n",
    "Now we will split our  dataset again to have separeted the training set with the testing set"
   ]
  },
  {
   "cell_type": "code",
   "execution_count": 5,
   "id": "29a0c765",
   "metadata": {},
   "outputs": [
    {
     "data": {
      "text/plain": [
       "Index(['OverallQual', 'YearBuilt', 'YearRemodAdd', 'MasVnrArea', 'ExterCond',\n",
       "       'BsmtQual', 'TotalBsmtSF', 'HeatingQC', 'FirstFlrSF', 'GrLivArea',\n",
       "       'FullBath', 'KitchenQual', 'TotRmsAbvGrd', 'Fireplaces', 'FireplaceQu',\n",
       "       'GarageYrBlt', 'GarageCars', 'GarageArea', 'SalePrice',\n",
       "       'MSZoning_C (all)', 'MSZoning_FV', 'MSZoning_RH', 'MSZoning_RL',\n",
       "       'MSZoning_RM', 'Neighborhood_Blmngtn', 'Neighborhood_Blueste',\n",
       "       'Neighborhood_BrDale', 'Neighborhood_BrkSide', 'Neighborhood_ClearCr',\n",
       "       'Neighborhood_CollgCr', 'Neighborhood_Crawfor', 'Neighborhood_Edwards',\n",
       "       'Neighborhood_Gilbert', 'Neighborhood_IDOTRR', 'Neighborhood_MeadowV',\n",
       "       'Neighborhood_Mitchel', 'Neighborhood_NAmes', 'Neighborhood_NPkVill',\n",
       "       'Neighborhood_NWAmes', 'Neighborhood_NoRidge', 'Neighborhood_NridgHt',\n",
       "       'Neighborhood_OldTown', 'Neighborhood_SWISU', 'Neighborhood_Sawyer',\n",
       "       'Neighborhood_SawyerW', 'Neighborhood_Somerst', 'Neighborhood_StoneBr',\n",
       "       'Neighborhood_Timber', 'Neighborhood_Veenker', 'HouseStyle_1.5Fin',\n",
       "       'HouseStyle_1.5Unf', 'HouseStyle_1Story', 'HouseStyle_2.5Fin',\n",
       "       'HouseStyle_2.5Unf', 'HouseStyle_2Story', 'HouseStyle_SFoyer',\n",
       "       'HouseStyle_SLvl', 'MasVnrType_BrkCmn', 'MasVnrType_BrkFace',\n",
       "       'MasVnrType_NMvt', 'MasVnrType_None', 'MasVnrType_Stone',\n",
       "       'Functional_Maj1', 'Functional_Maj2', 'Functional_Min1',\n",
       "       'Functional_Min2', 'Functional_Mod', 'Functional_Sev', 'Functional_Typ',\n",
       "       'Fence_GdPrv', 'Fence_GdWo', 'Fence_MnPrv', 'Fence_MnWw', 'Fence_NFe',\n",
       "       'Foundation_BrkTil', 'Foundation_CBlock', 'Foundation_PConc',\n",
       "       'Foundation_Slab', 'Foundation_Stone', 'Foundation_Wood'],\n",
       "      dtype='object')"
      ]
     },
     "execution_count": 5,
     "metadata": {},
     "output_type": "execute_result"
    }
   ],
   "source": [
    "df.columns"
   ]
  },
  {
   "cell_type": "code",
   "execution_count": 6,
   "id": "79d7003e",
   "metadata": {},
   "outputs": [],
   "source": [
    "df = df[['OverallQual', 'YearBuilt', 'YearRemodAdd', 'MasVnrArea', 'ExterCond',\n",
    "       'BsmtQual', 'TotalBsmtSF', 'HeatingQC', 'FirstFlrSF', 'GrLivArea',\n",
    "       'FullBath', 'KitchenQual', 'TotRmsAbvGrd', 'Fireplaces', 'FireplaceQu',\n",
    "       'GarageYrBlt', 'GarageCars', 'GarageArea','SalePrice']]"
   ]
  },
  {
   "cell_type": "code",
   "execution_count": 7,
   "id": "c69ca524",
   "metadata": {},
   "outputs": [],
   "source": [
    "y = df.SalePrice\n",
    "X = df.drop(columns = 'SalePrice')"
   ]
  },
  {
   "cell_type": "code",
   "execution_count": 8,
   "id": "630e74ba",
   "metadata": {},
   "outputs": [],
   "source": [
    "X_train, X_test, y_train, y_test = train_test_split(X,y,test_size=0.20, shuffle  = True)"
   ]
  },
  {
   "cell_type": "code",
   "execution_count": 9,
   "id": "97d86574",
   "metadata": {},
   "outputs": [
    {
     "data": {
      "text/plain": [
       "LinearRegression()"
      ]
     },
     "execution_count": 9,
     "metadata": {},
     "output_type": "execute_result"
    }
   ],
   "source": [
    "model = LinearRegression()\n",
    "model.fit(X_train, y_train)"
   ]
  },
  {
   "cell_type": "code",
   "execution_count": 10,
   "id": "83ca817d",
   "metadata": {},
   "outputs": [
    {
     "data": {
      "text/plain": [
       "array([12.13304292, 11.89311728, 11.82269312, 11.71023235, 12.05386956,\n",
       "       12.26980188, 11.92820015, 11.89882649, 12.51120777, 11.77541659,\n",
       "       12.18501862, 11.80602587, 12.02481365, 12.347184  , 12.37377142,\n",
       "       11.66343699, 11.80084151, 12.43843342, 12.03078678, 12.26384032,\n",
       "       12.01298107, 11.90383697, 11.78409352, 11.68212113, 12.15044675,\n",
       "       12.25336623, 11.72508873, 11.9911879 , 12.20637306, 12.47473497,\n",
       "       12.41309764, 12.00403036, 12.4799863 , 12.22028222, 11.6467651 ,\n",
       "       11.75281645, 12.25503784, 12.42022124, 11.96098799, 11.97563349,\n",
       "       12.12370161, 12.65878475, 12.36357318, 12.55624103, 12.1604683 ,\n",
       "       11.96231776, 12.27029759, 12.4040765 , 11.81109369, 11.55854016,\n",
       "       11.94889555, 11.9558215 , 12.51193555, 11.17628951, 11.92346281,\n",
       "       11.80173602, 12.55601835, 11.63048801, 11.35146424, 12.2463845 ,\n",
       "       12.12559834, 12.06362444, 12.15630129, 11.87416925, 11.5062363 ,\n",
       "       12.52034339, 11.95465202, 11.53189676, 11.58916635, 11.62643255,\n",
       "       12.25419466, 11.55895098, 12.16051889, 12.15006777, 11.95673737,\n",
       "       12.59496478, 12.13607345, 12.2784294 , 12.4498163 , 12.2807511 ,\n",
       "       12.1134538 , 12.08775094, 12.12611839, 11.77798557, 12.26677579,\n",
       "       11.68951062, 12.02832857, 12.00118792, 12.56495231, 12.20080077,\n",
       "       11.63909884, 11.97013128, 11.62039589, 12.14079968, 12.70847806,\n",
       "       11.97129284, 12.21744723, 12.09987303, 12.41118731, 12.3180296 ,\n",
       "       11.74592025, 12.31925574, 12.19328808, 11.76709137, 11.68223023,\n",
       "       12.51159932, 11.75581358, 11.91462407, 12.48420694, 12.12621177,\n",
       "       11.41828687, 11.91173543, 11.88694947, 11.54907377, 12.04268929,\n",
       "       11.84985096, 12.20865654, 12.5817479 , 11.64405636, 12.38821547,\n",
       "       12.65908898, 11.76366359, 12.23903641, 12.59862093, 12.67921018,\n",
       "       12.14825521, 11.87172711, 12.0813328 , 12.46708365, 11.69518419,\n",
       "       11.80203445, 11.87457634, 12.48633209, 12.11768887, 12.027269  ,\n",
       "       12.05365362, 12.33606778, 12.6264431 , 11.87442047, 12.3895636 ,\n",
       "       12.90213802, 12.03721874, 12.49336223, 11.92538302, 12.28237593,\n",
       "       12.38855478, 12.40160168, 12.16352905, 12.63506953, 11.69058965,\n",
       "       11.88706754, 12.42932377, 11.76506201, 12.67432765, 11.56952643,\n",
       "       12.13638705, 12.86551719, 12.18986169, 12.17884707, 11.55976598,\n",
       "       12.81640095, 11.61820938, 11.88383597, 12.26968386, 11.94746766,\n",
       "       12.46074301, 11.93676416, 12.02724814, 11.99485305, 11.75879071,\n",
       "       11.92687621, 11.68047896, 11.87644457, 11.933969  , 11.79949913,\n",
       "       12.17557405, 11.6492494 , 11.99452193, 11.75898295, 12.16105761,\n",
       "       12.27610146, 11.87222234, 11.95449271, 11.60956683, 12.54174421,\n",
       "       12.51600296, 11.77957279, 12.01088654, 11.78428467, 12.52330195,\n",
       "       11.49714734, 11.90770304, 11.82049376, 12.27117634, 12.56235804,\n",
       "       12.13716559, 12.1583205 , 11.82325758, 12.73807276, 12.45343606,\n",
       "       11.57438116, 12.01823951, 12.30705499, 11.66519536, 12.2868484 ,\n",
       "       11.76889242, 11.50218802, 12.341687  , 11.67234792, 11.70466863,\n",
       "       12.21112844, 12.20751853, 12.43117438, 11.67419109, 11.80594918,\n",
       "       12.57863029, 11.60934138, 11.58966057, 11.62220737, 11.71392274,\n",
       "       11.76463243, 11.92583629, 12.35216055, 12.03770539, 11.69535403,\n",
       "       11.44258201, 12.07180021, 12.12798192, 12.27792778, 11.98109714,\n",
       "       12.12250826, 11.89252243, 11.42125273, 12.25764778, 11.86750957,\n",
       "       11.65847281, 12.34660797, 11.65569904, 12.4771345 , 12.64287396,\n",
       "       11.61020802, 11.58653832, 12.04527888, 12.33459634, 12.00827773,\n",
       "       11.81908209, 12.01565041, 11.93713783, 12.0720435 , 11.99137605,\n",
       "       12.13721932, 11.76668849, 12.1893026 , 11.98938766, 12.28058787,\n",
       "       11.79085623, 11.68368605, 11.95040778, 11.78487015, 12.17620299,\n",
       "       11.69798446, 11.42392741, 11.71232495, 11.86301617, 12.2252842 ,\n",
       "       12.3563562 , 12.11560655, 11.62726084, 12.18466253, 11.87469446,\n",
       "       12.07991549, 11.68453467, 11.86633874, 11.79006076, 11.9176844 ,\n",
       "       12.11682316, 11.99220289, 12.19347781, 11.6295821 , 11.81053571,\n",
       "       12.20386067, 11.85942376, 12.16258898, 11.70781142, 12.54572686,\n",
       "       11.59030276, 11.85700764, 11.73506607, 12.1239701 , 12.3447938 ,\n",
       "       11.9246763 , 12.39604541])"
      ]
     },
     "execution_count": 10,
     "metadata": {},
     "output_type": "execute_result"
    }
   ],
   "source": [
    "y_prediction = model.predict(X_test)\n",
    "y_prediction"
   ]
  },
  {
   "cell_type": "code",
   "execution_count": 11,
   "id": "778119e0",
   "metadata": {},
   "outputs": [
    {
     "data": {
      "text/plain": [
       "0.020353192257325643"
      ]
     },
     "execution_count": 11,
     "metadata": {},
     "output_type": "execute_result"
    }
   ],
   "source": [
    "mean_squared_error(y_test, y_prediction)"
   ]
  },
  {
   "cell_type": "code",
   "execution_count": 12,
   "id": "f7507ebe",
   "metadata": {},
   "outputs": [
    {
     "data": {
      "text/plain": [
       "0.8404038680582981"
      ]
     },
     "execution_count": 12,
     "metadata": {},
     "output_type": "execute_result"
    }
   ],
   "source": [
    "r2_score(y_test, y_prediction)"
   ]
  }
 ],
 "metadata": {
  "kernelspec": {
   "display_name": "Python 3",
   "language": "python",
   "name": "python3"
  },
  "language_info": {
   "codemirror_mode": {
    "name": "ipython",
    "version": 3
   },
   "file_extension": ".py",
   "mimetype": "text/x-python",
   "name": "python",
   "nbconvert_exporter": "python",
   "pygments_lexer": "ipython3",
   "version": "3.8.8"
  }
 },
 "nbformat": 4,
 "nbformat_minor": 5
}
